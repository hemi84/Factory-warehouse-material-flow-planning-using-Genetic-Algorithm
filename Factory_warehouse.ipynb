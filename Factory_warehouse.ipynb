{
 "cells": [
  {
   "cell_type": "markdown",
   "metadata": {},
   "source": [
    "# Factory-warehouse material flow planning using Genetic Algorithm : Himanshu Bhardwaj"
   ]
  },
  {
   "cell_type": "code",
   "execution_count": 145,
   "metadata": {},
   "outputs": [],
   "source": [
    "import numpy as np\n",
    "import pandas as pd\n",
    "import matplotlib.pyplot as plt\n",
    "import math\n",
    "import random\n",
    "from sklearn.utils import shuffle\n",
    "from tqdm import tqdm"
   ]
  },
  {
   "cell_type": "code",
   "execution_count": 1,
   "metadata": {},
   "outputs": [],
   "source": [
    "c=[[10,30,15,25,10],[20,25,15,10,20],[12,18,20,15,15]] # Cost of transport from factory i to warehouse j\n",
    "capf=[1000,2000,1000] # Max capacity of the factory\n",
    "capw=[450,650,800,1200,950] # max capacity of warehouse\n",
    "demand=[400,600,700,1000,900] #demand at each warehouse"
   ]
  },
  {
   "cell_type": "code",
   "execution_count": 147,
   "metadata": {},
   "outputs": [],
   "source": [
    "bitsize = len(capf)*len(capw)\n",
    "pop_size =1000\n",
    "cross_rate = 0.9\n",
    "mut_rate = 1/1000\n",
    "iterations = 2000\n",
    "invent=10"
   ]
  },
  {
   "cell_type": "code",
   "execution_count": 148,
   "metadata": {},
   "outputs": [],
   "source": [
    "def GA_function(fitness, iterations, pop_size, cross_rate, mut_rate):\n",
    "    #initial population\n",
    "    init_pop = [np.random.randint(400,1500,bitsize).tolist() for _ in range(pop_size)]   \n",
    "    best = 0\n",
    "    best_fitvalue = fitness(init_pop[best])\n",
    "    for gen in tqdm(range(iterations)):\n",
    "        fitscore = [fitness(c) for c in init_pop]\n",
    "        for i in range(pop_size):\n",
    "            if fitness(init_pop[i]) < best_fitvalue:\n",
    "                best, best_fitvalue = init_pop[i], fitness(init_pop[i])\n",
    "                #print(\">%d, new best fit f(%s) = %.3f\"%(gen, best, best_fitvalue))\n",
    "        selected = [selection(init_pop, fitscore) for _ in range(pop_size)]\n",
    "        # create offsprings\n",
    "        offspring = list()\n",
    "        for i in range(0, pop_size, 2):\n",
    "            p1,p2 = selected[i], selected[i+1]\n",
    "            for c in crossover(p1,p2,cross_rate):\n",
    "                cc = mutation(c, mut_rate)\n",
    "                offspring.append(cc)\n",
    "        init_pop = offspring\n",
    "        error.append(best_fitvalue)\n",
    "    return [best, best_fitvalue]"
   ]
  },
  {
   "cell_type": "code",
   "execution_count": 149,
   "metadata": {},
   "outputs": [],
   "source": [
    "def crossover(parent1, parent2, cross_rate):\n",
    "    c1 = parent1\n",
    "    c2 = parent2\n",
    "    if np.random.rand() < cross_rate:\n",
    "        pos = np.random.randint(1,len(parent1)-2)\n",
    "        c1 = parent1[:pos] + parent2[pos:]\n",
    "        c2 = parent2[:pos] + parent1[pos:]\n",
    "    return [c1,c2]"
   ]
  },
  {
   "cell_type": "code",
   "execution_count": 150,
   "metadata": {},
   "outputs": [],
   "source": [
    "def mutation(genes, mut_rate):\n",
    "    for i in range(len(genes)):\n",
    "        if np.random.rand()<mut_rate:\n",
    "            genes[i] = random.randint(0,1500)\n",
    "    return genes"
   ]
  },
  {
   "cell_type": "code",
   "execution_count": 151,
   "metadata": {},
   "outputs": [],
   "source": [
    "\n",
    "def fitness(genes):\n",
    "    aa=np.array(genes).reshape(len(capf),len(capw))\n",
    "    obj=np.sum(aa*(np.array(c)))\n",
    "    ff = np.sum(aa,axis=1)\n",
    "    ww=np.sum(aa,axis=0)\n",
    "    def fac_cons():\n",
    "        over=0\n",
    "        for i in range(len(capf)):\n",
    "            if ff[i]>=capf[i]:\n",
    "                over+=1\n",
    "        return over\n",
    "    def war_cons():\n",
    "        over=0\n",
    "        for i in range(len(capw)):\n",
    "            if ww[i]>=capw[i]:\n",
    "                over+=1\n",
    "        return over\n",
    "    def demand1():\n",
    "        over=0\n",
    "        inventory=0\n",
    "        for i in range(len(capw)):\n",
    "            if ww[i]<demand[i]:\n",
    "                over+=1\n",
    "            inventory+=invent*(ww[i]-demand[i])\n",
    "        return [over,inventory]\n",
    "    #fc = np.sum(np.multiply(fc_cost,f_c))\n",
    "    #fd = np.sum(np.multiply(fd_cost,f_d))\n",
    "    #dc = np.sum(np.multiply(dc_cost,d_c))\n",
    "    pen = 500000\n",
    "    ddd=demand1()\n",
    "    total_cost = obj+pen*(fac_cons()+war_cons()+ddd[0])+ddd[1] \n",
    "    #print(fc+fd+dc)\n",
    "    return total_cost"
   ]
  },
  {
   "cell_type": "code",
   "execution_count": 152,
   "metadata": {},
   "outputs": [],
   "source": [
    "def selection(population, fitscore):\n",
    "    index = np.random.randint(len(population))\n",
    "    for ix in np.random.randint(0,len(population),1):\n",
    "        if fitscore[ix] < fitscore[index]:\n",
    "            index = ix\n",
    "    return population[index]"
   ]
  },
  {
   "cell_type": "code",
   "execution_count": 153,
   "metadata": {},
   "outputs": [],
   "source": [
    "cc=np.array([[1,2,1,2,1],[2,2,1,1,2],[1,1,2,1,1]])\n",
    "uu=cc*np.array(c)"
   ]
  },
  {
   "cell_type": "code",
   "execution_count": 154,
   "metadata": {},
   "outputs": [
    {
     "data": {
      "text/plain": [
       "array([7, 8, 6])"
      ]
     },
     "execution_count": 154,
     "metadata": {},
     "output_type": "execute_result"
    }
   ],
   "source": [
    "np.sum(cc,axis=1)"
   ]
  },
  {
   "cell_type": "code",
   "execution_count": 155,
   "metadata": {},
   "outputs": [
    {
     "data": {
      "text/plain": [
       "array([4, 5, 4, 4, 4])"
      ]
     },
     "execution_count": 155,
     "metadata": {},
     "output_type": "execute_result"
    }
   ],
   "source": [
    "np.sum(cc,axis=0)"
   ]
  },
  {
   "cell_type": "code",
   "execution_count": 156,
   "metadata": {},
   "outputs": [
    {
     "name": "stderr",
     "output_type": "stream",
     "text": [
      "100%|██████████████████████████████████████████████████████████████████████████████| 2000/2000 [13:35<00:00,  2.45it/s]\n"
     ]
    }
   ],
   "source": [
    "error=[]\n",
    "best,best_vl=GA_function(fitness, iterations, pop_size, cross_rate, mut_rate)"
   ]
  },
  {
   "cell_type": "code",
   "execution_count": 157,
   "metadata": {},
   "outputs": [
    {
     "data": {
      "text/plain": [
       "[<matplotlib.lines.Line2D at 0x201ad65f308>]"
      ]
     },
     "execution_count": 157,
     "metadata": {},
     "output_type": "execute_result"
    },
    {
     "data": {
      "image/png": "[encoded data removed]",
      "text/plain": [
       "<Figure size 432x288 with 1 Axes>"
      ]
     },
     "metadata": {
      "needs_background": "light"
     },
     "output_type": "display_data"
    }
   ],
   "source": [
    "plt.plot(error)"
   ]
  },
  {
   "cell_type": "code",
   "execution_count": 158,
   "metadata": {},
   "outputs": [],
   "source": [
    "t=np.array(best).reshape(len(capf),len(capw))"
   ]
  },
  {
   "cell_type": "code",
   "execution_count": 163,
   "metadata": {},
   "outputs": [
    {
     "name": "stdout",
     "output_type": "stream",
     "text": [
      "factory: 0 will supply 13 units of product to warehouse: 0\n",
      "------------------------------------------------------------\n",
      "factory: 0 will supply 94 units of product to warehouse: 1\n",
      "------------------------------------------------------------\n",
      "factory: 0 will supply 79 units of product to warehouse: 2\n",
      "------------------------------------------------------------\n",
      "factory: 0 will supply 392 units of product to warehouse: 3\n",
      "------------------------------------------------------------\n",
      "factory: 0 will supply 63 units of product to warehouse: 4\n",
      "------------------------------------------------------------\n",
      "factory: 1 will supply 22 units of product to warehouse: 0\n",
      "------------------------------------------------------------\n",
      "factory: 1 will supply 93 units of product to warehouse: 1\n",
      "------------------------------------------------------------\n",
      "factory: 1 will supply 204 units of product to warehouse: 2\n",
      "------------------------------------------------------------\n",
      "factory: 1 will supply 402 units of product to warehouse: 3\n",
      "------------------------------------------------------------\n",
      "factory: 1 will supply 401 units of product to warehouse: 4\n",
      "------------------------------------------------------------\n",
      "factory: 2 will supply 365 units of product to warehouse: 0\n",
      "------------------------------------------------------------\n",
      "factory: 2 will supply 413 units of product to warehouse: 1\n",
      "------------------------------------------------------------\n",
      "factory: 2 will supply 417 units of product to warehouse: 2\n",
      "------------------------------------------------------------\n",
      "factory: 2 will supply 206 units of product to warehouse: 3\n",
      "------------------------------------------------------------\n",
      "factory: 2 will supply 436 units of product to warehouse: 4\n",
      "------------------------------------------------------------\n"
     ]
    }
   ],
   "source": [
    "for i in range(len(capf)):\n",
    "    for j in range(len(capw)):\n",
    "        print(\"factory: %d will supply %d units of product to warehouse: %d\"%(i,t[i][j],j))\n",
    "        print(\"------------------------------------------------------------\")"
   ]
  },
  {
   "cell_type": "code",
   "execution_count": 166,
   "metadata": {},
   "outputs": [
    {
     "name": "stdout",
     "output_type": "stream",
     "text": [
      "factory: 0 will produce 641 units of product\n",
      "---------------------------------------------\n",
      "factory: 1 will produce 1122 units of product\n",
      "---------------------------------------------\n",
      "factory: 2 will produce 1837 units of product\n",
      "---------------------------------------------\n"
     ]
    }
   ],
   "source": [
    "for i in range(len(capf)):\n",
    "    a=np.sum(t,axis=1)\n",
    "    print(\"factory: %d will produce %d units of product\"%(i,a[i]))\n",
    "    print(\"---------------------------------------------\")"
   ]
  },
  {
   "cell_type": "code",
   "execution_count": 168,
   "metadata": {},
   "outputs": [
    {
     "name": "stdout",
     "output_type": "stream",
     "text": [
      "ware house: 0 will receive 400 units of product\n",
      "------------------------------------------------\n",
      "ware house: 1 will receive 600 units of product\n",
      "------------------------------------------------\n",
      "ware house: 2 will receive 700 units of product\n",
      "------------------------------------------------\n",
      "ware house: 3 will receive 1000 units of product\n",
      "------------------------------------------------\n",
      "ware house: 4 will receive 900 units of product\n",
      "------------------------------------------------\n"
     ]
    }
   ],
   "source": [
    "for i in range(len(capw)):\n",
    "    a=np.sum(t,axis=0)\n",
    "    print(\"ware house: %d will receive %d units of product\"%(i,a[i]))\n",
    "    print(\"------------------------------------------------\")"
   ]
  }
 ],
 "metadata": {
  "kernelspec": {
   "display_name": "Python 3",
   "language": "python",
   "name": "python3"
  },
  "language_info": {
   "codemirror_mode": {
    "name": "ipython",
    "version": 3
   },
   "file_extension": ".py",
   "mimetype": "text/x-python",
   "name": "python",
   "nbconvert_exporter": "python",
   "pygments_lexer": "ipython3",
   "version": "3.7.4"
  }
 },
 "nbformat": 4,
 "nbformat_minor": 2
}
